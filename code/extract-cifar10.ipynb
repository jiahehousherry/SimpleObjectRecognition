{
 "cells": [
  {
   "cell_type": "markdown",
   "metadata": {},
   "source": [
    "### Extract images from CIFAR-10 datasets "
   ]
  },
  {
   "cell_type": "code",
   "execution_count": 25,
   "metadata": {},
   "outputs": [],
   "source": [
    "import mxnet as mx\n",
    "import numpy as np\n",
    "import pickle\n",
    "import cv2"
   ]
  },
  {
   "cell_type": "code",
   "execution_count": 39,
   "metadata": {},
   "outputs": [],
   "source": [
    "def extractImagesAndLabels(path, file):\n",
    "    f = open(path+file, 'rb')\n",
    "    dict_ = pickle.load(f, encoding='bytes')\n",
    "    images = dict_[b'data']\n",
    "    images = np.reshape(images, (10000, 3, 32, 32))\n",
    "    labels = dict_[b'labels']\n",
    "    img_flat = mx.nd.array(images)\n",
    "    lab_flat = mx.nd.array(labels)\n",
    "    return img_flat, lab_flat\n",
    "\n",
    "def extractCategories(path, file):\n",
    "    f = open(path+file, 'rb')\n",
    "    dict_ = pickle.load(f, encoding='bytes')\n",
    "    return dict_[b'label_names']\n",
    "\n",
    "def saveCifarImage(array, path, file):\n",
    "    # array is 3x32x32. cv2 needs 32x32x3\n",
    "    array = array.asnumpy().transpose(1,2,0)\n",
    "    # array is RGB. cv2 needs BGR\n",
    "    array = cv2.cvtColor(array, cv2.COLOR_RGB2BGR)\n",
    "    # save to PNG file\n",
    "    return cv2.imwrite(path+file+\".png\", array)"
   ]
  },
  {
   "cell_type": "code",
   "execution_count": 44,
   "metadata": {},
   "outputs": [],
   "source": [
    "path = '../data/cifar-10-batches-py/'\n",
    "prefix = 'data_batch_'\n",
    "\n",
    "imgs, labels = list(), list()\n",
    "\n",
    "for i in range(1,6):\n",
    "    img_flat, lab_flat = extractImagesAndLabels(path, prefix+str(i))\n",
    "    imgs.extend(img_flat)\n",
    "    labels.extend(lab_flat)"
   ]
  },
  {
   "cell_type": "code",
   "execution_count": 47,
   "metadata": {},
   "outputs": [],
   "source": [
    "categories = extractCategories(\"../data/cifar-10-batches-py/\", \"batches.meta\")\n",
    "\n",
    "batches = []\n",
    "for i in range(0,50000):\n",
    "    saveCifarImage(imgs[i], \"../data/img/\", \"image\"+(str)(i))\n",
    "    category = labels[i].asnumpy()\n",
    "    category = (int)(category[0])\n",
    "    batches.append(categories[category])"
   ]
  },
  {
   "cell_type": "code",
   "execution_count": null,
   "metadata": {},
   "outputs": [],
   "source": []
  }
 ],
 "metadata": {
  "kernelspec": {
   "display_name": "Python 3",
   "language": "python",
   "name": "python3"
  },
  "language_info": {
   "codemirror_mode": {
    "name": "ipython",
    "version": 3
   },
   "file_extension": ".py",
   "mimetype": "text/x-python",
   "name": "python",
   "nbconvert_exporter": "python",
   "pygments_lexer": "ipython3",
   "version": "3.6.6"
  }
 },
 "nbformat": 4,
 "nbformat_minor": 2
}
