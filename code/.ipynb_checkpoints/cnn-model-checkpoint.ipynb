{
 "cells": [
  {
   "cell_type": "code",
   "execution_count": 1,
   "metadata": {},
   "outputs": [],
   "source": [
    "### Convolutional Neural Network (CNN) Model Building (Training and Testing)\n",
    "\n",
    "import tensorflow as tf\n",
    "\n",
    "### this is the path of the data and labels\n",
    "### for both training data set and testing\n",
    "### data set \n",
    "\n",
    "path_train_img = '../data/training/img'\n",
    "train_label = '../data/training/label/labels.txt'\n",
    "\n",
    "### read the label txt file and unpack label\n",
    "### information about each individual image \n",
    "### return a dictionary with image name and \n",
    "### label\n",
    "\n",
    "def unpack_labels(label_path):\n",
    "    labels = list()\n",
    "    dict_ = dict()\n",
    "    with open(label_path, 'r') as f:\n",
    "        labels = f.readlines()\n",
    "    \n",
    "    for label in labels:\n",
    "        img = label.split(':')[0]\n",
    "        lbl = label.split(':')[1][2:][:-2]\n",
    "        dict_[img] = lbl\n",
    "        \n",
    "    return dict_\n",
    "\n",
    "train_label_dict = unpack_labels(train_label)"
   ]
  },
  {
   "cell_type": "code",
   "execution_count": null,
   "metadata": {},
   "outputs": [],
   "source": []
  }
 ],
 "metadata": {
  "kernelspec": {
   "display_name": "Python 3",
   "language": "python",
   "name": "python3"
  },
  "language_info": {
   "codemirror_mode": {
    "name": "ipython",
    "version": 3
   },
   "file_extension": ".py",
   "mimetype": "text/x-python",
   "name": "python",
   "nbconvert_exporter": "python",
   "pygments_lexer": "ipython3",
   "version": "3.6.6"
  }
 },
 "nbformat": 4,
 "nbformat_minor": 2
}
