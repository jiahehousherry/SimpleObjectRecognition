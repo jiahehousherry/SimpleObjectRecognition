{
 "cells": [
  {
   "cell_type": "markdown",
   "metadata": {},
   "source": [
    "### Extract images from CIFAR-10 datasets "
   ]
  },
  {
   "cell_type": "code",
   "execution_count": 1,
   "metadata": {},
   "outputs": [],
   "source": [
    "import mxnet as mx\n",
    "import numpy as np\n",
    "import pickle\n",
    "import cv2"
   ]
  },
  {
   "cell_type": "code",
   "execution_count": 2,
   "metadata": {},
   "outputs": [],
   "source": [
    "def extractImagesAndLabels(path, file):\n",
    "    f = open(path+file, 'rb')\n",
    "    dict_ = pickle.load(f, encoding='bytes')\n",
    "    images = dict_[b'data']\n",
    "    images = np.reshape(images, (10000, 3, 32, 32))\n",
    "    labels = dict_[b'labels']\n",
    "    img_flat = mx.nd.array(images)\n",
    "    lab_flat = mx.nd.array(labels)\n",
    "    return img_flat, lab_flat\n",
    "\n",
    "def extractCategories(path, file):\n",
    "    f = open(path+file, 'rb')\n",
    "    dict_ = pickle.load(f, encoding='bytes')\n",
    "    return dict_[b'label_names']\n",
    "\n",
    "def saveCifarImage(array, path, file):\n",
    "    # array is 3x32x32. cv2 needs 32x32x3\n",
    "    array = array.asnumpy().transpose(1,2,0)\n",
    "    # array is RGB. cv2 needs BGR\n",
    "    array = cv2.cvtColor(array, cv2.COLOR_RGB2BGR)\n",
    "    # save to PNG file\n",
    "    return cv2.imwrite(path+file+\".png\", array)"
   ]
  },
  {
   "cell_type": "code",
   "execution_count": 3,
   "metadata": {},
   "outputs": [],
   "source": [
    "path = '../data/cifar-10-batches-py/'\n",
    "prefix = 'data_batch_'\n",
    "\n",
    "imgs_train, labels_train = list(), list()\n",
    "imgs_test, labels_test = list(), list()\n",
    "\n",
    "### extract data from the training batches \n",
    "for i in range(1,6):\n",
    "    imgs_train_flat, labs_train_flat = extractImagesAndLabels(path, prefix+str(i))\n",
    "    imgs_train.extend(imgs_train_flat)\n",
    "    labels_train.extend(labs_train_flat)\n",
    "    \n",
    "### extract data from the testing batch\n",
    "imgs_test_flat, labs_test_flat = extractImagesAndLabels(path, 'test_batch')\n",
    "imgs_test.extend(imgs_test_flat)\n",
    "labels_test.extend(labs_test_flat)"
   ]
  },
  {
   "cell_type": "code",
   "execution_count": 4,
   "metadata": {},
   "outputs": [],
   "source": [
    "assert len(imgs_train) == len(labels_train)\n",
    "assert len(imgs_test) == len(labels_test)"
   ]
  },
  {
   "cell_type": "code",
   "execution_count": 5,
   "metadata": {},
   "outputs": [],
   "source": [
    "### delete everything before image-saving starts \n",
    "def refresh_folder(path_to_folder):\n",
    "    import os, shutil\n",
    "    for file in os.listdir(path_to_folder):\n",
    "        file_path = os.path.join(path_to_folder, file)\n",
    "        \n",
    "        try:\n",
    "            if os.path.isfile(file_path):\n",
    "                os.unlink(file_path)\n",
    "        except Exception as e:\n",
    "            print(e)"
   ]
  },
  {
   "cell_type": "code",
   "execution_count": 6,
   "metadata": {},
   "outputs": [],
   "source": [
    "refresh_folder(\"../data/training/img/\")\n",
    "refresh_folder(\"../data/training/label/\")"
   ]
  },
  {
   "cell_type": "code",
   "execution_count": 7,
   "metadata": {},
   "outputs": [],
   "source": [
    "categories = extractCategories(\"../data/cifar-10-batches-py/\", \"batches.meta\")\n",
    "batches_train = []\n",
    "\n",
    "for i in range(len(imgs_train)):\n",
    "    saveCifarImage(imgs_train[i], \"../data/training/img/\", \"img-\"+(str)(i))\n",
    "    category = labels_train[i].asnumpy()\n",
    "    category = (int)(category[0])\n",
    "    batches_train.append(categories[category])\n",
    "    \n",
    "f = open('../data/training/label/labels.txt', 'w+')\n",
    "for i in range(len(batches_train)):\n",
    "    f.write(f'img-{i}.png:{batches_train[i]}\\n')\n",
    "f.close()"
   ]
  },
  {
   "cell_type": "code",
   "execution_count": 8,
   "metadata": {},
   "outputs": [],
   "source": [
    "refresh_folder(\"../data/testing/img/\")\n",
    "refresh_folder(\"../data/testing/label/\")"
   ]
  },
  {
   "cell_type": "code",
   "execution_count": 9,
   "metadata": {},
   "outputs": [],
   "source": [
    "batches_test = []\n",
    "\n",
    "for i in range(len(imgs_test)):\n",
    "    saveCifarImage(imgs_test[i], \"../data/testing/img/\", \"img-\"+(str)(i))\n",
    "    category = labels_test[i].asnumpy()\n",
    "    category = (int)(category[0])\n",
    "    batches_test.append(categories[category])\n",
    "    \n",
    "f = open('../data/testing/label/labels.txt', 'w+')\n",
    "for i in range(len(batches_test)):\n",
    "    f.write(f'img-{i}.png:{batches_test[i]}\\n')\n",
    "f.close()"
   ]
  },
  {
   "cell_type": "code",
   "execution_count": null,
   "metadata": {},
   "outputs": [],
   "source": []
  }
 ],
 "metadata": {
  "kernelspec": {
   "display_name": "Python 3",
   "language": "python",
   "name": "python3"
  },
  "language_info": {
   "codemirror_mode": {
    "name": "ipython",
    "version": 3
   },
   "file_extension": ".py",
   "mimetype": "text/x-python",
   "name": "python",
   "nbconvert_exporter": "python",
   "pygments_lexer": "ipython3",
   "version": "3.6.6"
  }
 },
 "nbformat": 4,
 "nbformat_minor": 2
}
