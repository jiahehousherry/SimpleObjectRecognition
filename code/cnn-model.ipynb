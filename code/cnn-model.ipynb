{
 "cells": [
  {
   "cell_type": "code",
   "execution_count": 1,
   "metadata": {},
   "outputs": [],
   "source": [
    "### Convolutional Neural Network (CNN) Model Building (Training and Testing)\n",
    "\n",
    "import tensorflow as tf\n",
    "\n",
    "### this is the path of the data and labels\n",
    "### for both training data set and testing\n",
    "### data set \n",
    "\n",
    "path_train_img = '../data/training/img'\n",
    "train_label = '../data/training/label/labels.txt'\n",
    "\n",
    "### read the label txt file and unpack label\n",
    "### information about each individual image \n",
    "### return a dictionary with image name and \n",
    "### label\n",
    "\n",
    "def unpack_labels(label_path):\n",
    "    labels = list()\n",
    "    dict_ = dict()\n",
    "    with open(label_path, 'r') as f:\n",
    "        labels = f.readlines()\n",
    "    \n",
    "    for label in labels:\n",
    "        img = label.split(':')[0]\n",
    "        lbl = label.split(':')[1][2:][:-2]\n",
    "        dict_[img] = lbl\n",
    "        \n",
    "    return dict_\n",
    "\n",
    "train_label_dict = unpack_labels(train_label)"
   ]
  },
  {
   "cell_type": "code",
   "execution_count": 2,
   "metadata": {},
   "outputs": [],
   "source": [
    "### for later model building\n",
    "### one hot encoding \n",
    "\n",
    "def one_hot_encoding(img, dict_):\n",
    "    import numpy as np\n",
    "\n",
    "    if dict_[img] == 'airplane':\n",
    "        ohl = np.array([1,0,0,0,0,0,0,0,0,0])\n",
    "    elif dict_[img] == 'automobile':\n",
    "        ohl = np.array([0,1,0,0,0,0,0,0,0,0])\n",
    "    elif dict_[img] == 'bird':\n",
    "        ohl = np.array([0,0,1,0,0,0,0,0,0,0])\n",
    "    elif dict_[img] == 'cat':\n",
    "        ohl = np.array([0,0,0,1,0,0,0,0,0,0])\n",
    "    elif dict_[img] == 'deer':\n",
    "        ohl = np.array([0,0,0,0,1,0,0,0,0,0])\n",
    "    elif dict_[img] == 'dog':\n",
    "        ohl = np.array([0,0,0,0,0,1,0,0,0,0])\n",
    "    elif dict_[img] == 'frog':\n",
    "        ohl = np.array([0,0,0,0,0,0,1,0,0,0])\n",
    "    elif dict_[img] == 'horse':\n",
    "        ohl = np.array([0,0,0,0,0,0,0,1,0,0])\n",
    "    elif dict_[img] == 'ship':\n",
    "        ohl = np.array([0,0,0,0,0,0,0,0,1,0])\n",
    "    else:\n",
    "        ohl = np.array([0,0,0,0,0,0,0,0,0,1])\n",
    "        \n",
    "    return ohl"
   ]
  },
  {
   "cell_type": "code",
   "execution_count": 3,
   "metadata": {},
   "outputs": [],
   "source": [
    "def data_with_label(data_path, dict_):\n",
    "    from tqdm import tqdm\n",
    "    import os\n",
    "    import numpy as np\n",
    "    import cv2\n",
    "    from random import shuffle\n",
    "    \n",
    "    imgs = []\n",
    "    \n",
    "    for i in tqdm(os.listdir(data_path)):\n",
    "        path = os.path.join(data_path, i)\n",
    "        img = cv2.imread(path, cv2.IMREAD_GRAYSCALE)\n",
    "        img = cv2.resize(img, (32,32))\n",
    "        imgs.append([np.array(img), one_hot_encoding(i, dict_)])\n",
    "        \n",
    "    shuffle(imgs)\n",
    "    return imgs"
   ]
  },
  {
   "cell_type": "code",
   "execution_count": 4,
   "metadata": {},
   "outputs": [
    {
     "name": "stderr",
     "output_type": "stream",
     "text": [
      "100%|██████████| 50000/50000 [01:15<00:00, 662.09it/s]\n"
     ]
    }
   ],
   "source": [
    "train_data_with_label = data_with_label(path_train_img, train_label_dict)"
   ]
  },
  {
   "cell_type": "code",
   "execution_count": 5,
   "metadata": {},
   "outputs": [],
   "source": [
    "def unzip_data(data_with_label):\n",
    "    import numpy as np\n",
    "    img_data_flat = np.array([d[0] for d in data_with_label]).reshape(-1, 32, 32, 1)\n",
    "    lbl_data_flat = np.array([d[1] for d in data_with_label])\n",
    "    return img_data_flat, lbl_data_flat"
   ]
  },
  {
   "cell_type": "code",
   "execution_count": 6,
   "metadata": {},
   "outputs": [],
   "source": [
    "train_img_flat, train_lbl_flat = unzip_data(train_data_with_label)"
   ]
  },
  {
   "cell_type": "code",
   "execution_count": 8,
   "metadata": {},
   "outputs": [
    {
     "name": "stderr",
     "output_type": "stream",
     "text": [
      "Using TensorFlow backend.\n"
     ]
    }
   ],
   "source": [
    "### now we can start to build the machine learning model\n",
    "from keras.models import Sequential\n",
    "from keras.layers import *\n",
    "from keras.optimizers import *\n",
    "\n",
    "def create_model():\n",
    "    model = Sequential()\n",
    "    model.add(InputLayer(input_shape = [32,32,1]))\n",
    "    model.add(Conv2D(filters=32, kernel_size=5, strides=1, padding='same', activation='relu'))\n",
    "    model.add(MaxPool2D(pool_size=5, padding='same'))\n",
    "\n",
    "    model.add(Conv2D(filters=50, kernel_size=5, strides=1, padding='same', activation='relu'))\n",
    "    model.add(MaxPool2D(pool_size=5, padding='same'))\n",
    "\n",
    "    model.add(Conv2D(filters=80, kernel_size=5, strides=1, padding='same', activation='relu'))\n",
    "    model.add(MaxPool2D(pool_size=5, padding='same'))\n",
    "\n",
    "    model.add(Dropout(0.25))\n",
    "    model.add(Flatten())\n",
    "    model.add(Dense(512, activation='relu'))\n",
    "    model.add(Dropout(rate=0.5))\n",
    "    model.add(Dense(10, activation='softmax'))\n",
    "    optimizer = Adam(lr=1e-3)\n",
    "\n",
    "    model.compile(optimizer=optimizer, loss='categorical_crossentropy', metrics=['accuracy'])\n",
    "    \n",
    "    return model"
   ]
  },
  {
   "cell_type": "code",
   "execution_count": null,
   "metadata": {},
   "outputs": [
    {
     "name": "stdout",
     "output_type": "stream",
     "text": [
      "training... approx. for an hour. Be patient\n"
     ]
    }
   ],
   "source": [
    "### train the model\n",
    "print('training... approx. for an hour. Be patient')\n",
    "model = create_model()\n",
    "model.fit(x=train_img_flat, y=train_lbl_flat, epochs=50, batch_size=100, verbose=0)"
   ]
  },
  {
   "cell_type": "code",
   "execution_count": null,
   "metadata": {},
   "outputs": [],
   "source": [
    "### evaluate the model based on training data \n",
    "scores = model.evaluate(train_img_flat, train_lbl_flat, verbose=0)\n",
    "print(\"%s: %.2f%%\" % (model.metrics_names[1], scores[1]*100))"
   ]
  },
  {
   "cell_type": "code",
   "execution_count": null,
   "metadata": {},
   "outputs": [],
   "source": [
    "### save the weights file\n",
    "### serialize weights to HDF5\n",
    "model.save_weights(\"../data/model/model.h5\")\n",
    "print(\"Saved model to disk\")"
   ]
  },
  {
   "cell_type": "code",
   "execution_count": null,
   "metadata": {},
   "outputs": [],
   "source": []
  }
 ],
 "metadata": {
  "kernelspec": {
   "display_name": "Python 3",
   "language": "python",
   "name": "python3"
  },
  "language_info": {
   "codemirror_mode": {
    "name": "ipython",
    "version": 3
   },
   "file_extension": ".py",
   "mimetype": "text/x-python",
   "name": "python",
   "nbconvert_exporter": "python",
   "pygments_lexer": "ipython3",
   "version": "3.6.6"
  }
 },
 "nbformat": 4,
 "nbformat_minor": 2
}
