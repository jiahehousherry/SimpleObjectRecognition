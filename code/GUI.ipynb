{
 "cells": [
  {
   "cell_type": "code",
   "execution_count": 3,
   "metadata": {},
   "outputs": [],
   "source": [
    "import sys\n",
    "from PyQt5.QtCore import *\n",
    "from PyQt5.QtGui import *\n",
    "from PyQt5.QtWidgets import *\n",
    "from PyQt5 import QtWidgets\n"
   ]
  },
  {
   "cell_type": "code",
   "execution_count": 5,
   "metadata": {},
   "outputs": [
    {
     "name": "stdout",
     "output_type": "stream",
     "text": [
      "Loading..\n",
      "C:/Users/xyuhubert/Desktop/python work/Github/data/testing/img/img-0.png\n"
     ]
    },
    {
     "ename": "SystemExit",
     "evalue": "0",
     "output_type": "error",
     "traceback": [
      "An exception has occurred, use %tb to see the full traceback.\n",
      "\u001b[1;31mSystemExit\u001b[0m\u001b[1;31m:\u001b[0m 0\n"
     ]
    },
    {
     "name": "stderr",
     "output_type": "stream",
     "text": [
      "C:\\Python\\lib\\site-packages\\IPython\\core\\interactiveshell.py:2971: UserWarning: To exit: use 'exit', 'quit', or Ctrl-D.\n",
      "  warn(\"To exit: use 'exit', 'quit', or Ctrl-D.\", stacklevel=1)\n"
     ]
    }
   ],
   "source": [
    "class photo_demo(QtWidgets.QWidget):\n",
    "    #signal\n",
    "    _signal = QtCore.pyqtSignal()\n",
    "    def __init__(self,parent = None):\n",
    "        super(photo_demo,self).__init__(parent)\n",
    "        vertical_layout = QVBoxLayout()\n",
    "        grid_layout = QGridLayout()\n",
    "        grid_layout.setSpacing(10)\n",
    "        \n",
    "        # set the size of window\n",
    "        self.resize(300,300)\n",
    "        \n",
    "        self.button = QPushButton()\n",
    "        self.button.clicked.connect(self.photo_load)\n",
    "        self.button.setText('Loading Photo from File')\n",
    "        grid_layout.addWidget(self.button,1,0)\n",
    "        \n",
    "        self.label = QLabel()\n",
    "        self.label.setText('Image')\n",
    "        grid_layout.addWidget(self.label,1,1)\n",
    "        \n",
    "        self.label_2 = QLabel()\n",
    "        self.label_2.setText('Output:')\n",
    "        grid_layout.addWidget(self.label_2,4,0)\n",
    "        \n",
    "        self.label_3 = QLabel()\n",
    "        self.label_3.setText('1')\n",
    "        grid_layout.addWidget(self.label_3,4,1)\n",
    "        \n",
    "#         self.content = QTextEdit()\n",
    "#         layout.addWidget(self.content)\n",
    "        \n",
    "        self.setWindowTitle('Guess Photo!')\n",
    "        self.setLayout(grid_layout)\n",
    "        \n",
    "        #signal\n",
    "        self._signal.connect(self.mysignal)\n",
    "    \n",
    "    def photo_load(self):\n",
    "        print('Loading..')\n",
    "        result = QMessageBox.warning(self,('Warning'),('''Please be certain kinds of photos'''),QMessageBox.StandardButtons(QMessageBox.Yes),QMessageBox.Yes)\n",
    "        fname, _ = QFileDialog.getOpenFileName(self,'Choose Photos',r'C:/Users/xyuhubert/Desktop/python work/Github','Image files(*.jpg *.gif *.png)')\n",
    "        print(fname)\n",
    "        self.label.setPixmap(QPixmap(fname))\n",
    "        self._signal.emit()\n",
    "#         print(type(fname))\n",
    "#         pixmap = QPixmap(C:\\Users\\xyuhubert\\Desktop\\python work\\Github\\tiger.jpg)\n",
    "#         self.label.setPixmap(pixmap)\n",
    "    def mysignal(self, parameter):\n",
    "        print(parameter)\n",
    "    \n",
    "if __name__ == '__main__':\n",
    "# must construct a QApplication before QWidget\n",
    "    app = QApplication(sys.argv) \n",
    "    photoload = photo_demo()\n",
    "    photoload.show()\n",
    "    sys.exit(app.exec_())\n",
    "        "
   ]
  },
  {
   "cell_type": "code",
   "execution_count": null,
   "metadata": {},
   "outputs": [],
   "source": []
  },
  {
   "cell_type": "code",
   "execution_count": null,
   "metadata": {},
   "outputs": [],
   "source": []
  }
 ],
 "metadata": {
  "kernelspec": {
   "display_name": "Python 3",
   "language": "python",
   "name": "python3"
  },
  "language_info": {
   "codemirror_mode": {
    "name": "ipython",
    "version": 3
   },
   "file_extension": ".py",
   "mimetype": "text/x-python",
   "name": "python",
   "nbconvert_exporter": "python",
   "pygments_lexer": "ipython3",
   "version": "3.6.5"
  }
 },
 "nbformat": 4,
 "nbformat_minor": 2
}
