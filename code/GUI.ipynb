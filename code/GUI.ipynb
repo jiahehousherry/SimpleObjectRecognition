{
 "cells": [
  {
   "cell_type": "code",
   "execution_count": 1,
   "metadata": {},
   "outputs": [
    {
     "name": "stderr",
     "output_type": "stream",
     "text": [
      "Using TensorFlow backend.\n"
     ]
    }
   ],
   "source": [
    "import sys\n",
    "from PyQt5.QtCore import *\n",
    "from PyQt5.QtGui import *\n",
    "from PyQt5.QtWidgets import *\n",
    "from PyQt5 import QtWidgets, QtCore\n",
    "\n",
    "import tensorflow as tf\n",
    "from keras.models import Sequential\n",
    "from keras.layers import *\n",
    "from keras.optimizers import *"
   ]
  },
  {
   "cell_type": "code",
   "execution_count": 2,
   "metadata": {},
   "outputs": [],
   "source": [
    "class cnn_model:\n",
    "    def __init__(self, path, weights_path):\n",
    "        self.path = path\n",
    "        self.weights_path = weights_path\n",
    "    \n",
    "    def create_model(self):\n",
    "        model = Sequential()\n",
    "        model.add(InputLayer(input_shape = [32,32,1]))\n",
    "        model.add(Conv2D(filters=32, kernel_size=5, strides=1, padding='same', activation='relu'))\n",
    "        model.add(MaxPool2D(pool_size=5, padding='same'))\n",
    "\n",
    "        model.add(Conv2D(filters=50, kernel_size=5, strides=1, padding='same', activation='relu'))\n",
    "        model.add(MaxPool2D(pool_size=5, padding='same'))\n",
    "\n",
    "        model.add(Conv2D(filters=80, kernel_size=5, strides=1, padding='same', activation='relu'))\n",
    "        model.add(MaxPool2D(pool_size=5, padding='same'))\n",
    "\n",
    "        model.add(Dropout(0.25))\n",
    "        model.add(Flatten())\n",
    "        model.add(Dense(512, activation='relu'))\n",
    "        model.add(Dropout(rate=0.5))\n",
    "        model.add(Dense(10, activation='softmax'))\n",
    "        optimizer = Adam(lr=1e-3)\n",
    "\n",
    "        model.compile(optimizer=optimizer, loss='categorical_crossentropy', metrics=['accuracy'])\n",
    "    \n",
    "        return model\n",
    "    \n",
    "    def predict_image(self):\n",
    "        model = self.create_model()\n",
    "        model.load_weights(self.weights_path)\n",
    "        \n",
    "        ### helper function\n",
    "        def one_hot_to_text(predict):\n",
    "            if np.argmax(predict) == 0:\n",
    "                predict_label = 'airplane'\n",
    "            elif np.argmax(predict) == 1:\n",
    "                predict_label = 'automobile'\n",
    "            elif np.argmax(predict) == 2:\n",
    "                predict_label = 'bird'\n",
    "            elif np.argmax(predict) == 3:\n",
    "                predict_label = 'cat'\n",
    "            elif np.argmax(predict) == 4:\n",
    "                predict_label = 'deer'\n",
    "            elif np.argmax(predict) == 5:\n",
    "                predict_label = 'dog'\n",
    "            elif np.argmax(predict) == 6:\n",
    "                predict_label = 'frog'\n",
    "            elif np.argmax(predict) == 7:\n",
    "                predict_label = 'horse'\n",
    "            elif np.argmax(predict) == 8:\n",
    "                predict_label = 'ship'\n",
    "            else:\n",
    "                predict_label = 'truck'\n",
    "        \n",
    "            return predict_label\n",
    "        \n",
    "        import cv2\n",
    "        img = cv2.imread(self.path, cv2.IMREAD_GRAYSCALE)\n",
    "        img = cv2.resize(img, (32,32))\n",
    "        data = img.reshape(1,32,32,1)\n",
    "        predict = model.predict([data])\n",
    "        label = one_hot_to_text(predict)\n",
    "        return label"
   ]
  },
  {
   "cell_type": "code",
   "execution_count": 3,
   "metadata": {},
   "outputs": [],
   "source": [
    "class photo_demo(QtWidgets.QWidget):\n",
    "    #signal\n",
    "    _signal = QtCore.pyqtSignal()\n",
    "    def __init__(self,parent = None):\n",
    "        super(photo_demo,self).__init__(parent)\n",
    "        vertical_layout = QVBoxLayout()\n",
    "        grid_layout = QGridLayout()\n",
    "        grid_layout.setSpacing(10)\n",
    "        \n",
    "        # set the size of window\n",
    "        self.resize(300,300)\n",
    "                \n",
    "        self.button = QPushButton()\n",
    "        self.button.clicked.connect(self.photo_load)\n",
    "        self.button.setText('UPLOAD\\nIMAGE')\n",
    "        grid_layout.addWidget(self.button,1,0)\n",
    "        \n",
    "        self.label = QLabel()\n",
    "        grid_layout.addWidget(self.label,1,1)\n",
    "        \n",
    "        self.label_2 = QLabel()\n",
    "        self.label_2.setText('The image you \\nselected must\\n' + \n",
    "                             'be one of the\\nfollowing types:\\n' +  \n",
    "                             'bird, horse, dog,\\n' + 'ship, airplane,\\n' + \n",
    "                             'truck, frog, deer,\\n' + 'cat, automobile.\\n')\n",
    "        self.label_2.setAlignment(QtCore.Qt.AlignCenter)\n",
    "\n",
    "        grid_layout.addWidget(self.label_2,4,0)\n",
    "        \n",
    "        self.label_3 = QLabel()\n",
    "        grid_layout.addWidget(self.label_3,4,1)\n",
    "        \n",
    "        \n",
    "        self.setWindowTitle('Simple Image Recognition')\n",
    "        self.setLayout(grid_layout)\n",
    "        \n",
    "        #signal\n",
    "        self._signal.connect(self.mysignal)\n",
    "    \n",
    "    def photo_load(self):\n",
    "        print('Loading..')\n",
    "       \n",
    "        fname, _ = QFileDialog.getOpenFileName(self,\n",
    "                                               'Upload An Image',\n",
    "                                               '',\n",
    "                                               'Image files(*.jpg *.jpeg *.png)')\n",
    "        cnn = cnn_model(fname, '../data/model/model.h5')\n",
    "        \n",
    "        self.label.setPixmap(QPixmap(fname))\n",
    "        self.label_3.setText(f'our best guess is \\n{cnn.predict_image()}')\n",
    "        self.label_3.setAlignment(QtCore.Qt.AlignCenter)\n",
    "        self.label_3.setStyleSheet(\"background-color:yellow;\")\n",
    "        \n",
    "        font = QFont();\n",
    "        font.setPointSize(30);\n",
    "        font.setBold(True);\n",
    "        self.label_3.setFont(font);\n",
    "        \n",
    "        self._signal.emit()\n",
    "        \n",
    "    def mysignal(self, parameter=1):\n",
    "        pass"
   ]
  },
  {
   "cell_type": "code",
   "execution_count": 4,
   "metadata": {},
   "outputs": [
    {
     "name": "stdout",
     "output_type": "stream",
     "text": [
      "Loading..\n",
      "Loading..\n",
      "Loading..\n",
      "Loading..\n",
      "Loading..\n",
      "Loading..\n",
      "Loading..\n",
      "Loading..\n",
      "Loading..\n",
      "Loading..\n"
     ]
    },
    {
     "ename": "SystemExit",
     "evalue": "0",
     "output_type": "error",
     "traceback": [
      "An exception has occurred, use %tb to see the full traceback.\n",
      "\u001b[0;31mSystemExit\u001b[0m\u001b[0;31m:\u001b[0m 0\n"
     ]
    },
    {
     "name": "stderr",
     "output_type": "stream",
     "text": [
      "/Users/Nelson/anaconda3/lib/python3.6/site-packages/IPython/core/interactiveshell.py:3275: UserWarning: To exit: use 'exit', 'quit', or Ctrl-D.\n",
      "  warn(\"To exit: use 'exit', 'quit', or Ctrl-D.\", stacklevel=1)\n"
     ]
    }
   ],
   "source": [
    "if __name__ == '__main__':\n",
    "# must construct a QApplication before QWidget\n",
    "    app = QApplication(sys.argv) \n",
    "    photoload = photo_demo()\n",
    "    photoload.show()\n",
    "    sys.exit(app.exec_())"
   ]
  },
  {
   "cell_type": "code",
   "execution_count": null,
   "metadata": {},
   "outputs": [],
   "source": []
  }
 ],
 "metadata": {
  "kernelspec": {
   "display_name": "Python 3",
   "language": "python",
   "name": "python3"
  },
  "language_info": {
   "codemirror_mode": {
    "name": "ipython",
    "version": 3
   },
   "file_extension": ".py",
   "mimetype": "text/x-python",
   "name": "python",
   "nbconvert_exporter": "python",
   "pygments_lexer": "ipython3",
   "version": "3.6.6"
  }
 },
 "nbformat": 4,
 "nbformat_minor": 2
}
