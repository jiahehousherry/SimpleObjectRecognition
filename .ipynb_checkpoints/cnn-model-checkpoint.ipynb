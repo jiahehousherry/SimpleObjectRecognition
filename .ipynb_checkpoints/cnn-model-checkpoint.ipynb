{
 "cells": [
  {
   "cell_type": "markdown",
   "metadata": {},
   "source": [
    "### Convolutional Neural Network (CNN) Model Building (Training and Testing)"
   ]
  },
  {
   "cell_type": "code",
   "execution_count": 1,
   "metadata": {
    "scrolled": true
   },
   "outputs": [
    {
     "name": "stderr",
     "output_type": "stream",
     "text": [
      "/anaconda3/lib/python3.6/site-packages/h5py/__init__.py:36: FutureWarning: Conversion of the second argument of issubdtype from `float` to `np.floating` is deprecated. In future, it will be treated as `np.float64 == np.dtype(float).type`.\n",
      "  from ._conv import register_converters as _register_converters\n"
     ]
    }
   ],
   "source": [
    "import tensorflow as tf"
   ]
  },
  {
   "cell_type": "code",
   "execution_count": 2,
   "metadata": {},
   "outputs": [],
   "source": [
    "### this is the path of the data and labels\n",
    "### for both training data set and testing\n",
    "### data set \n",
    "\n",
    "path_train_img = '../data/training/img'\n",
    "train_label = '../data/training/label/labels.txt'"
   ]
  },
  {
   "cell_type": "code",
   "execution_count": 3,
   "metadata": {},
   "outputs": [],
   "source": [
    "### read the label txt file and unpack label\n",
    "### information about each individual image \n",
    "### return a dictionary with image name and \n",
    "### label\n",
    "\n",
    "def unpack_labels(label_path):\n",
    "    labels = list()\n",
    "    dict_ = dict()\n",
    "    with open(label_path, 'r') as f:\n",
    "        labels = f.readlines()\n",
    "    \n",
    "    for label in labels:\n",
    "        img = label.split(':')[0]\n",
    "        lbl = label.split(':')[1][2:][:-2]\n",
    "        dict_[img] = lbl\n",
    "        \n",
    "    return dict_"
   ]
  },
  {
   "cell_type": "code",
   "execution_count": 4,
   "metadata": {},
   "outputs": [
    {
     "ename": "FileNotFoundError",
     "evalue": "[Errno 2] No such file or directory: '../data/training/label/labels.txt'",
     "output_type": "error",
     "traceback": [
      "\u001b[0;31m---------------------------------------------------------------------------\u001b[0m",
      "\u001b[0;31mFileNotFoundError\u001b[0m                         Traceback (most recent call last)",
      "\u001b[0;32m<ipython-input-4-5df62c3f6478>\u001b[0m in \u001b[0;36m<module>\u001b[0;34m()\u001b[0m\n\u001b[0;32m----> 1\u001b[0;31m \u001b[0mtrain_label_dict\u001b[0m \u001b[0;34m=\u001b[0m \u001b[0munpack_labels\u001b[0m\u001b[0;34m(\u001b[0m\u001b[0mtrain_label\u001b[0m\u001b[0;34m)\u001b[0m\u001b[0;34m\u001b[0m\u001b[0m\n\u001b[0m",
      "\u001b[0;32m<ipython-input-3-bc5ae3e8a716>\u001b[0m in \u001b[0;36munpack_labels\u001b[0;34m(label_path)\u001b[0m\n\u001b[1;32m      7\u001b[0m     \u001b[0mlabels\u001b[0m \u001b[0;34m=\u001b[0m \u001b[0mlist\u001b[0m\u001b[0;34m(\u001b[0m\u001b[0;34m)\u001b[0m\u001b[0;34m\u001b[0m\u001b[0m\n\u001b[1;32m      8\u001b[0m     \u001b[0mdict_\u001b[0m \u001b[0;34m=\u001b[0m \u001b[0mdict\u001b[0m\u001b[0;34m(\u001b[0m\u001b[0;34m)\u001b[0m\u001b[0;34m\u001b[0m\u001b[0m\n\u001b[0;32m----> 9\u001b[0;31m     \u001b[0;32mwith\u001b[0m \u001b[0mopen\u001b[0m\u001b[0;34m(\u001b[0m\u001b[0mlabel_path\u001b[0m\u001b[0;34m,\u001b[0m \u001b[0;34m'r'\u001b[0m\u001b[0;34m)\u001b[0m \u001b[0;32mas\u001b[0m \u001b[0mf\u001b[0m\u001b[0;34m:\u001b[0m\u001b[0;34m\u001b[0m\u001b[0m\n\u001b[0m\u001b[1;32m     10\u001b[0m         \u001b[0mlabels\u001b[0m \u001b[0;34m=\u001b[0m \u001b[0mf\u001b[0m\u001b[0;34m.\u001b[0m\u001b[0mreadlines\u001b[0m\u001b[0;34m(\u001b[0m\u001b[0;34m)\u001b[0m\u001b[0;34m\u001b[0m\u001b[0m\n\u001b[1;32m     11\u001b[0m \u001b[0;34m\u001b[0m\u001b[0m\n",
      "\u001b[0;31mFileNotFoundError\u001b[0m: [Errno 2] No such file or directory: '../data/training/label/labels.txt'"
     ]
    }
   ],
   "source": [
    "train_label_dict = unpack_labels(train_label)"
   ]
  },
  {
   "cell_type": "code",
   "execution_count": null,
   "metadata": {},
   "outputs": [],
   "source": [
    "### for later model building\n",
    "### one hot encoding \n",
    "\n",
    "def one_hot_encoding(img, dict_):\n",
    "    import numpy as np\n",
    "\n",
    "    if dict_[img] == 'airplane':\n",
    "        ohl = np.array([1,0,0,0,0,0,0,0,0,0])\n",
    "    elif dict_[img] == 'automobile':\n",
    "        ohl = np.array([0,1,0,0,0,0,0,0,0,0])\n",
    "    elif dict_[img] == 'bird':\n",
    "        ohl = np.array([0,0,1,0,0,0,0,0,0,0])\n",
    "    elif dict_[img] == 'cat':\n",
    "        ohl = np.array([0,0,0,1,0,0,0,0,0,0])\n",
    "    elif dict_[img] == 'deer':\n",
    "        ohl = np.array([0,0,0,0,1,0,0,0,0,0])\n",
    "    elif dict_[img] == 'dog':\n",
    "        ohl = np.array([0,0,0,0,0,1,0,0,0,0])\n",
    "    elif dict_[img] == 'frog':\n",
    "        ohl = np.array([0,0,0,0,0,0,1,0,0,0])\n",
    "    elif dict_[img] == 'horse':\n",
    "        ohl = np.array([0,0,0,0,0,0,0,1,0,0])\n",
    "    elif dict_[img] == 'ship':\n",
    "        ohl = np.array([0,0,0,0,0,0,0,0,1,0])\n",
    "    else:\n",
    "        ohl = np.array([0,0,0,0,0,0,0,0,0,1])\n",
    "        \n",
    "    return ohl"
   ]
  },
  {
   "cell_type": "code",
   "execution_count": null,
   "metadata": {},
   "outputs": [],
   "source": [
    "def data_with_label(data_path, dict_):\n",
    "    from tqdm import tqdm\n",
    "    import os\n",
    "    import numpy as np\n",
    "    import cv2\n",
    "    from random import shuffle\n",
    "    \n",
    "    imgs = []\n",
    "    \n",
    "    for i in tqdm(os.listdir(data_path)):\n",
    "        path = os.path.join(data_path, i)\n",
    "        img = cv2.imread(path, cv2.IMREAD_GRAYSCALE)\n",
    "        img = cv2.resize(img, (32,32))\n",
    "        imgs.append([np.array(img), one_hot_encoding(i, dict_)])\n",
    "        \n",
    "    shuffle(imgs)\n",
    "    return imgs"
   ]
  },
  {
   "cell_type": "code",
   "execution_count": null,
   "metadata": {},
   "outputs": [],
   "source": [
    "train_data_with_label = data_with_label(path_train_img, train_label_dict)"
   ]
  },
  {
   "cell_type": "code",
   "execution_count": null,
   "metadata": {},
   "outputs": [],
   "source": [
    "def unzip_data(data_with_label):\n",
    "    import numpy as np\n",
    "    img_data_flat = np.array([d[0] for d in data_with_label]).reshape(-1, 32, 32, 1)\n",
    "    lbl_data_flat = np.array([d[1] for d in data_with_label])\n",
    "    return img_data_flat, lbl_data_flat"
   ]
  },
  {
   "cell_type": "code",
   "execution_count": null,
   "metadata": {},
   "outputs": [],
   "source": [
    "train_img_flat, train_lbl_flat = unzip_data(train_data_with_label)"
   ]
  },
  {
   "cell_type": "code",
   "execution_count": null,
   "metadata": {},
   "outputs": [],
   "source": [
    "### now we can start to build the machine learning model\n",
    "from keras.models import Sequential\n",
    "from keras.layers import *\n",
    "from keras.optimizers import *\n",
    "\n",
    "def create_model():\n",
    "    model = Sequential()\n",
    "    model.add(InputLayer(input_shape = [32,32,1]))\n",
    "    model.add(Conv2D(filters=32, kernel_size=5, strides=1, padding='same', activation='relu'))\n",
    "    model.add(MaxPool2D(pool_size=5, padding='same'))\n",
    "\n",
    "    model.add(Conv2D(filters=50, kernel_size=5, strides=1, padding='same', activation='relu'))\n",
    "    model.add(MaxPool2D(pool_size=5, padding='same'))\n",
    "\n",
    "    model.add(Conv2D(filters=80, kernel_size=5, strides=1, padding='same', activation='relu'))\n",
    "    model.add(MaxPool2D(pool_size=5, padding='same'))\n",
    "\n",
    "    model.add(Dropout(0.25))\n",
    "    model.add(Flatten())\n",
    "    model.add(Dense(512, activation='relu'))\n",
    "    model.add(Dropout(rate=0.5))\n",
    "    model.add(Dense(10, activation='softmax'))\n",
    "    optimizer = Adam(lr=1e-3)\n",
    "\n",
    "    model.compile(optimizer=optimizer, loss='categorical_crossentropy', metrics=['accuracy'])\n",
    "    \n",
    "    return model"
   ]
  },
  {
   "cell_type": "code",
   "execution_count": null,
   "metadata": {},
   "outputs": [],
   "source": [
    "### train the model\n",
    "print('training... approx. for an hour. Be patient')\n",
    "model = create_model()\n",
    "model.fit(x=train_img_flat, y=train_lbl_flat, epochs=50, batch_size=100, verbose=0)"
   ]
  },
  {
   "cell_type": "code",
   "execution_count": null,
   "metadata": {},
   "outputs": [],
   "source": [
    "### evaluate the model based on training data \n",
    "scores = model.evaluate(train_img_flat, train_lbl_flat, verbose=1)\n",
    "print(\"%s: %.2f%%\" % (model.metrics_names[1], scores[1]*100))"
   ]
  },
  {
   "cell_type": "code",
   "execution_count": null,
   "metadata": {},
   "outputs": [],
   "source": [
    "### save the weights file\n",
    "### serialize weights to HDF5\n",
    "model.save_weights(\"../data/model/model.h5\")\n",
    "print(\"Saved model to disk\")"
   ]
  },
  {
   "cell_type": "code",
   "execution_count": null,
   "metadata": {},
   "outputs": [],
   "source": [
    "### now we begin to test our cnn model by only using \n",
    "### the data for testing\n",
    "\n",
    "path_test_img = '../data/testing/img'\n",
    "test_label = '../data/testing/label/labels.txt'\n",
    "\n",
    "test_label_dict = unpack_labels(test_label)\n",
    "test_data_with_label = data_with_label(path_test_img, test_label_dict)\n",
    "test_img_flat, test_lbl_flat = unzip_data(test_data_with_label)"
   ]
  },
  {
   "cell_type": "code",
   "execution_count": null,
   "metadata": {},
   "outputs": [],
   "source": [
    "### load the weights file so that we don't have to wait \n",
    "### until future training finishes. \n",
    "\n",
    "loaded_model = create_model()\n",
    "# load weights into new model\n",
    "loaded_model.load_weights(\"../data/model/model.h5\")\n",
    "print(\"Loaded model from disk\")"
   ]
  },
  {
   "cell_type": "code",
   "execution_count": null,
   "metadata": {},
   "outputs": [],
   "source": [
    "# evaluate loaded model on test data\n",
    "#loaded_model.compile(optimizer=optimizer, loss='categorical_crossentropy', metrics=['accuracy'])\n",
    "score = loaded_model.evaluate(test_img_flat, test_lbl_flat, verbose=1)\n",
    "print(\"%s: %.2f%%\" % (loaded_model.metrics_names[1], score[1]*100))"
   ]
  },
  {
   "cell_type": "code",
   "execution_count": null,
   "metadata": {},
   "outputs": [],
   "source": [
    "### track to see how well the model performs on untouched test data\n",
    "### this is not a standard machine learning testing. It's just a \n",
    "### quick look if our model predicts something reasonable \n",
    "import matplotlib.pyplot as plt\n",
    "%matplotlib inline\n",
    "\n",
    "fig = plt.figure(figsize=(14,14))\n",
    "\n",
    "for i, data in enumerate(test_data_with_label[10:30]):\n",
    "    y = fig.add_subplot(4, 5, i+1)\n",
    "    img = data[0]\n",
    "    data = img.reshape(1,32,32,1)\n",
    "    predict = loaded_model.predict([data])\n",
    "    \n",
    "    if np.argmax(predict) == 0:\n",
    "        predict_label = 'airplane'\n",
    "    elif np.argmax(predict) == 1:\n",
    "        predict_label = 'automobile'\n",
    "    elif np.argmax(predict) == 2:\n",
    "        predict_label = 'bird'\n",
    "    elif np.argmax(predict) == 3:\n",
    "        predict_label = 'cat'\n",
    "    elif np.argmax(predict) == 4:\n",
    "        predict_label = 'deer'\n",
    "    elif np.argmax(predict) == 5:\n",
    "        predict_label = 'dog'\n",
    "    elif np.argmax(predict) == 6:\n",
    "        predict_label = 'frog'\n",
    "    elif np.argmax(predict) == 7:\n",
    "        predict_label = 'horse'\n",
    "    elif np.argmax(predict) == 8:\n",
    "        predict_label = 'ship'\n",
    "    else:\n",
    "        predict_label = 'truck'\n",
    "    \n",
    "    y.imshow(img, cmap='gray')\n",
    "    plt.title(predict_label)\n",
    "    y.axes.get_xaxis().set_visible(False)\n",
    "    y.axes.get_yaxis().set_visible(False)"
   ]
  },
  {
   "cell_type": "code",
   "execution_count": null,
   "metadata": {},
   "outputs": [],
   "source": []
  }
 ],
 "metadata": {
  "kernelspec": {
   "display_name": "Python 3",
   "language": "python",
   "name": "python3"
  },
  "language_info": {
   "codemirror_mode": {
    "name": "ipython",
    "version": 3
   },
   "file_extension": ".py",
   "mimetype": "text/x-python",
   "name": "python",
   "nbconvert_exporter": "python",
   "pygments_lexer": "ipython3",
   "version": "3.6.5"
  }
 },
 "nbformat": 4,
 "nbformat_minor": 2
}
