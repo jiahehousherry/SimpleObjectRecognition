{
 "cells": [
  {
   "cell_type": "code",
   "execution_count": 1,
   "metadata": {},
   "outputs": [],
   "source": [
    "import sys\n",
    "from PyQt5.QtCore import *\n",
    "from PyQt5.QtGui import *\n",
    "from PyQt5.QtWidgets import *\n"
   ]
  },
  {
   "cell_type": "code",
   "execution_count": 3,
   "metadata": {},
   "outputs": [
    {
     "ename": "SyntaxError",
     "evalue": "invalid syntax (<ipython-input-3-879ea5f156b1>, line 25)",
     "output_type": "error",
     "traceback": [
      "\u001b[1;36m  File \u001b[1;32m\"<ipython-input-3-879ea5f156b1>\"\u001b[1;36m, line \u001b[1;32m25\u001b[0m\n\u001b[1;33m    pixmap = QPixmap(C:\\Users\\xyuhubert\\Desktop\\python work\\Github\\tiger.jpg)\u001b[0m\n\u001b[1;37m                      ^\u001b[0m\n\u001b[1;31mSyntaxError\u001b[0m\u001b[1;31m:\u001b[0m invalid syntax\n"
     ]
    }
   ],
   "source": [
    "class photo_demo(QWidget):\n",
    "    def __init__(self,parent = None):\n",
    "        super(photo_demo,self).__init__(parent)\n",
    "        layout = QVBoxLayout()\n",
    "        \n",
    "        self.button = QPushButton()\n",
    "        self.button.clicked.connect(self.photo_load)\n",
    "        self.button.setText('Loading Photo from File')\n",
    "        layout.addWidget(self.button)\n",
    "        \n",
    "        self.label = QLabel()\n",
    "        self.label.setText('Output')\n",
    "        layout.addWidget(self.label)\n",
    "        \n",
    "#         self.content = QTextEdit()\n",
    "#         layout.addWidget(self.content)\n",
    "        \n",
    "        self.setWindowTitle('Guess Photo!')\n",
    "        self.setLayout(layout)\n",
    "    \n",
    "    def photo_load(self):\n",
    "        print('Loading..')\n",
    "#         fname, _ = QFileDialog.getOpenFileName(self,'Choose Photos',r'C:\\Users\\xyuhubert\\Desktop\\python work\\Github\\tiger.jpg','Image files(*.jpg *.gif *.png)')\n",
    "#         self.label.setPixmap(QPixmap(fname))\n",
    "        pixmap = QPixmap(C:\\Users\\xyuhubert\\Desktop\\python work\\Github\\tiger.jpg)\n",
    "        self.label.setPixmap(pixmap)\n",
    "    \n",
    "if __name__ == '__main__':\n",
    "    app = QApplication(sys.argv)\n",
    "    photoload = photo_demo()\n",
    "    photoload.show()\n",
    "    sys.exit(app.exec_())\n",
    "        "
   ]
  },
  {
   "cell_type": "code",
   "execution_count": null,
   "metadata": {},
   "outputs": [],
   "source": []
  }
 ],
 "metadata": {
  "kernelspec": {
   "display_name": "Python 3",
   "language": "python",
   "name": "python3"
  },
  "language_info": {
   "codemirror_mode": {
    "name": "ipython",
    "version": 3
   },
   "file_extension": ".py",
   "mimetype": "text/x-python",
   "name": "python",
   "nbconvert_exporter": "python",
   "pygments_lexer": "ipython3",
   "version": "3.6.5"
  }
 },
 "nbformat": 4,
 "nbformat_minor": 2
}
